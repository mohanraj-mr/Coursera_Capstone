{
 "cells": [
  {
   "cell_type": "markdown",
   "metadata": {},
   "source": [
    "# Strategic Location for Construction of a new Cricket Stadium in Toronto, Canada"
   ]
  },
  {
   "cell_type": "code",
   "execution_count": null,
   "metadata": {},
   "outputs": [],
   "source": []
  },
  {
   "cell_type": "markdown",
   "metadata": {},
   "source": [
    "## Introduction"
   ]
  },
  {
   "cell_type": "markdown",
   "metadata": {},
   "source": [
    "Cricket is a popular sport especially in Asian Countries like India, Pakistan, Sri_Lanka, Bangladesh, etc. As a result of globalization, many of the cricket fans who migrated to Canada are restricted to watching the sport on TV or to fly thousands of kilometers to stadium. Thus, to get the real feel of the sport fans often desire to watch the game in stadium that is nearby to them. To capitalize on this opportunity and to satisfy the fans of cricket in Canada. The Cricket Board decides to build a stadium in the capital city of Toronto with in-house food and beverage selling which is also a major revenue stream for the board. Now, the location of the stadium within the city matters a lot and influences many things."
   ]
  },
  {
   "cell_type": "code",
   "execution_count": null,
   "metadata": {},
   "outputs": [],
   "source": []
  }
 ],
 "metadata": {
  "kernelspec": {
   "display_name": "Python",
   "language": "python",
   "name": "conda-env-python-py"
  },
  "language_info": {
   "codemirror_mode": {
    "name": "ipython",
    "version": 3
   },
   "file_extension": ".py",
   "mimetype": "text/x-python",
   "name": "python",
   "nbconvert_exporter": "python",
   "pygments_lexer": "ipython3",
   "version": "3.6.10"
  }
 },
 "nbformat": 4,
 "nbformat_minor": 4
}
